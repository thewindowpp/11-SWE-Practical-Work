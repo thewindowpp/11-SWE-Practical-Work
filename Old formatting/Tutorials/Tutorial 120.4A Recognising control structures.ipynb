{
 "cells": [
  {
   "cell_type": "markdown",
   "id": "1f5b92b7",
   "metadata": {},
   "source": [
    "# Tutorial 120.4A – Recognising Control Structures"
   ]
  },
  {
   "cell_type": "markdown",
   "id": "ec6bdab0",
   "metadata": {},
   "source": [
    "This tutorial helps you practise identifying and analysing selection and iteration in pseudocode, flowcharts, and Python."
   ]
  },
  {
   "cell_type": "markdown",
   "id": "aeda2c5b",
   "metadata": {},
   "source": [
    "## Question 1\n",
    "Examine the pseudocode below. Identify the control structure used and explain its purpose.\n",
    "```\n",
    "IF temperature > 30 THEN\n",
    "    PRINT \"Turn on fan\"\n",
    "ELSE\n",
    "    PRINT \"Fan off\"\n",
    "ENDIF\n",
    "```\n",
    "\n",
    "ANSWER: Selection, it is used to get a result based on the value of a variable"
   ]
  },
  {
   "cell_type": "markdown",
   "id": "e71ff158",
   "metadata": {},
   "source": [
    "## Question 2\n",
    "Identify the control structure in the flowchart that branches on a decision.\n",
    "![Flowchart](https://conceptstocode.apolloacademy.au/~gitbook/image?url=https%3A%2F%2F2467980448-files.gitbook.io%2F%7E%2Ffiles%2Fv0%2Fb%2Fgitbook-x-prod.appspot.com%2Fo%2Fspaces%252FsdPZPJyjzCdi6zPvYFDD%252Fuploads%252FePmKA5yJm6mdR9xW6Szv%252F1204-2.png%3Falt%3Dmedia%26token%3Db42defd7-bc05-4081-bdd2-309f7212dbce&width=768&dpr=4&quality=100&sign=a4592914&sv=2)\n",
    "\n",
    "ANSWER: Sequence leading to selection"
   ]
  },
  {
   "cell_type": "markdown",
   "id": "47b95940",
   "metadata": {},
   "source": [
    "## Question 3\n",
    "What type of iteration is used in `for i in range(5)`?\n",
    "\n",
    "ANSWER: Pre-test for Loop"
   ]
  },
  {
   "cell_type": "markdown",
   "id": "7f8ae118",
   "metadata": {},
   "source": [
    "## Question 4\n",
    "Rewrite the following IF-ELSEIF structure using CASEWHERE pseudocode:\n",
    "\n",
    "```\n",
    "IF day == \"Monday\" THEN\n",
    "    PRINT \"Start of the week\"\n",
    "ELSEIF day == \"Friday\" THEN\n",
    "    PRINT \"End of the week\"\n",
    "ELSE\n",
    "    PRINT \"Midweek\"\n",
    "ENDIF\n",
    "```\n",
    "\n",
    "\n",
    "ANSWER:\n",
    "```\n",
    "CASEWHERE day \n",
    "    \"Monday\": \n",
    "        PRINT \"Start of the week\"\n",
    "    \"Friday\":\n",
    "        PRINT \"End of the week\"\n",
    "    OTHERWISE:\n",
    "        PRINT \"Midweek\"\n",
    "    ENDCASE\n",
    "\n"
   ]
  },
  {
   "cell_type": "markdown",
   "id": "494f1eb3",
   "metadata": {},
   "source": [
    "## Question 5\n",
    "Translate the following pseudocode into Python:\n",
    "\n",
    "```\n",
    "WHILE user_input ≠ \"exit\"\n",
    "    INPUT user_input\n",
    "ENDWHILE\n",
    "```\n",
    "\n",
    "ANSWER:\n",
    "```python\n",
    "while user_input != \"exit\":\n",
    "    user_input = input(\"Please enter: \")\n",
    "```"
   ]
  },
  {
   "cell_type": "markdown",
   "id": "cc017b22",
   "metadata": {},
   "source": [
    "## Question 6\n",
    "A student writes an algorithm that asks the user for a number; if it’s even, it prints the square of the number. If it’s odd, it prints the cube. Identify the type(s) of control structure used and justify your classification.\n",
    "\n",
    "ANSWER: <br>\n",
    "1. Sequence - "
   ]
  },
  {
   "cell_type": "markdown",
   "id": "549f09fc",
   "metadata": {},
   "source": [
    "## Question 7\n",
    "Trace the following pseudocode for `n = 3`. What is the final output?\n",
    "\n",
    "```\n",
    "total = 0\n",
    "FOR i = 1 TO n\n",
    "    IF i MOD 2 == 0 THEN\n",
    "        total = total + i\n",
    "    ENDIF\n",
    "NEXT i\n",
    "PRINT total\n",
    "```"
   ]
  },
  {
   "cell_type": "markdown",
   "id": "819fcfec",
   "metadata": {},
   "source": [
    "## Question 8\n",
    "Explain the difference between binary selection and multi-way selection. Provide pseudocode examples of each."
   ]
  },
  {
   "cell_type": "markdown",
   "id": "f9f3cf64",
   "metadata": {},
   "source": [
    "## Question 9\n",
    "A flowchart begins with a process box setting count = 0, followed by a loop that increments count until it reaches 5.\n",
    "![Flowchart](https://conceptstocode.apolloacademy.au/~gitbook/image?url=https%3A%2F%2F2467980448-files.gitbook.io%2F%7E%2Ffiles%2Fv0%2Fb%2Fgitbook-x-prod.appspot.com%2Fo%2Fspaces%252FsdPZPJyjzCdi6zPvYFDD%252Fuploads%252FI5koF0Afy9Nk27BbXlrr%252F1204-9.png%3Falt%3Dmedia%26token%3Db66b1448-38f7-44a7-a20d-020846c7dd9b&width=768&dpr=4&quality=100&sign=2af6000b&sv=2)\n",
    "\n",
    "Identify the loop type and describe how you can tell from the flowchart's structure."
   ]
  },
  {
   "cell_type": "markdown",
   "id": "61c6921f",
   "metadata": {},
   "source": [
    "## Question 10\n",
    "Write pseudocode for a program that asks the user to enter numbers until a negative number is entered, then prints the average of all positive numbers."
   ]
  },
  {
   "cell_type": "markdown",
   "id": "0d83ba7a",
   "metadata": {},
   "source": [
    "## Question 11\n",
    "Consider this logic: “Repeat asking the user for a password until the correct one is entered.” What kind of loop does this require and why?"
   ]
  },
  {
   "cell_type": "markdown",
   "id": "5db7a14c",
   "metadata": {},
   "source": [
    "## Question 12\n",
    "Translate this real-world rule into pseudocode using appropriate control structures:\n",
    "\n",
    "“If the time is before 9:00 AM, display ‘Good morning’. If the time is between 9:00 AM and 5:00 PM, display ‘Good day’. Otherwise, display ‘Good evening’.”"
   ]
  },
  {
   "cell_type": "markdown",
   "id": "55a64e78",
   "metadata": {},
   "source": [
    "## Question 13\n",
    "Given the following Python code, identify how selection is used within an iteration. Explain how the two structures interact.\n",
    "\n",
    "```python\n",
    "for mark in marks:\n",
    "    if mark >= 50:\n",
    "        print(\"Pass\")\n",
    "    else:\n",
    "        print(\"Fail\")\n",
    "```"
   ]
  },
  {
   "cell_type": "markdown",
   "id": "db90fa1d",
   "metadata": {},
   "source": [
    "## Question 14\n",
    "Rewrite the following pseudocode using a loop:\n",
    "\n",
    "```\n",
    "PRINT \"Enter score:\"\n",
    "INPUT score1\n",
    "PRINT \"Enter score:\"\n",
    "INPUT score2\n",
    "PRINT \"Enter score:\"\n",
    "INPUT score3\n",
    "```"
   ]
  },
  {
   "cell_type": "markdown",
   "id": "28b0c7eb",
   "metadata": {},
   "source": [
    "## Question 15\n",
    "The following pseudocode intends to repeat a task 10 times, but contains an error. Identify and correct it:\n",
    "\n",
    "```\n",
    "i = 1\n",
    "WHILE i < 10\n",
    "    PRINT i\n",
    "    i = i + 1\n",
    "ENDWHILE\n",
    "```"
   ]
  },
  {
   "cell_type": "markdown",
   "id": "b7c31b23",
   "metadata": {},
   "source": [
    "## Question 16\n",
    "Examine the pseudocode below. Identify all control structures and explain how subroutines improve readability and maintainability.\n",
    "\n",
    "```\n",
    "BEGIN Main\n",
    "    CALL GetUserData\n",
    "    CALL CalculateAverage\n",
    "    CALL DisplayResults\n",
    "END\n",
    "\n",
    "SUBROUTINE GetUserData\n",
    "    FOR i = 1 TO 3\n",
    "        INPUT score[i]\n",
    "    NEXT i\n",
    "END\n",
    "\n",
    "SUBROUTINE CalculateAverage\n",
    "    total = 0\n",
    "    FOR i = 1 TO 3\n",
    "        total = total + score[i]\n",
    "    NEXT i\n",
    "    average = total / 3\n",
    "END\n",
    "\n",
    "SUBROUTINE DisplayResults\n",
    "    PRINT average\n",
    "END\n",
    "```"
   ]
  },
  {
   "cell_type": "markdown",
   "id": "a724bf23",
   "metadata": {},
   "source": [
    "## Question 17\n",
    "Refer to the provided flowchart below showing repeated subtraction until two values `a` and `b` are equal. Answer the following:\n",
    "![Flowchart](https://conceptstocode.apolloacademy.au/~gitbook/image?url=https%3A%2F%2F2467980448-files.gitbook.io%2F%7E%2Ffiles%2Fv0%2Fb%2Fgitbook-x-prod.appspot.com%2Fo%2Fspaces%252FsdPZPJyjzCdi6zPvYFDD%252Fuploads%252FnehfFgBTgoxqot6Zt28u%252F1204-17.png%3Falt%3Dmedia%26token%3D6659b193-a160-450d-8d38-ac2c6a106877&width=768&dpr=4&quality=100&sign=e3828ba9&sv=2)\n",
    "a. What type of loop is used?\n",
    "b. What selection structures are present?\n",
    "c. What is the purpose of the algorithm?\n",
    "d. What happens if the inputs are equal to begin with?"
   ]
  },
  {
   "cell_type": "markdown",
   "id": "1af4c2de",
   "metadata": {},
   "source": [
    "## Question 18\n",
    "Write pseudocode that uses a FOR loop to check multiple temperature readings. Within the loop, call a subroutine `CheckTemp(value)` that uses selection to classify each reading as low, normal, or high."
   ]
  },
  {
   "cell_type": "markdown",
   "id": "f6ad2d83",
   "metadata": {},
   "source": [
    "## Question 19\n",
    "Convert the following pseudocode to a flowchart and describe how control structures are visualised:\n",
    "\n",
    "```\n",
    "BEGIN\n",
    "    INPUT number\n",
    "    WHILE number != 0\n",
    "        IF number MOD 2 == 0 THEN\n",
    "            PRINT \"Even\"\n",
    "        ELSE\n",
    "            PRINT \"Odd\"\n",
    "        ENDIF\n",
    "        INPUT number\n",
    "    ENDWHILE\n",
    "END\n",
    "```"
   ]
  },
  {
   "cell_type": "markdown",
   "id": "e1a243a6",
   "metadata": {},
   "source": [
    "## Question 20\n",
    "Write modular pseudocode for a program that asks a user to enter a password. The program will call a subroutine `Validate(password)` that returns true if the password is at least 8 characters and includes a number. Repeat until a valid password is entered."
   ]
  },
  {
   "cell_type": "markdown",
   "id": "349c074c",
   "metadata": {},
   "source": [
    "## Question 21\n",
    "Trace the following algorithm step-by-step for `n = 5`. Identify which control structures are used, and explain how output is produced.\n",
    "\n",
    "```\n",
    "BEGIN\n",
    "    FOR i = 1 TO n\n",
    "        CALL CheckValue(i)\n",
    "    NEXT i\n",
    "END\n",
    "\n",
    "SUBROUTINE CheckValue(x)\n",
    "    IF x MOD 3 == 0 THEN\n",
    "        PRINT \"Fizz\"\n",
    "    ELSEIF x MOD 5 == 0 THEN\n",
    "        PRINT \"Buzz\"\n",
    "    ELSE\n",
    "        PRINT x\n",
    "    ENDIF\n",
    "END\n",
    "```"
   ]
  },
  {
   "cell_type": "markdown",
   "id": "39234019",
   "metadata": {},
   "source": [
    "## Question 22\n",
    "Refactor the following pseudocode to use a subroutine and explain how this change supports software engineering principles:\n",
    "\n",
    "```\n",
    "total = 0\n",
    "FOR i = 1 TO 3\n",
    "    INPUT score\n",
    "    IF score >= 50 THEN\n",
    "        total = total + score\n",
    "    ENDIF\n",
    "NEXT i\n",
    "PRINT total\n",
    "```"
   ]
  },
  {
   "cell_type": "markdown",
   "id": "bfa57c70",
   "metadata": {},
   "source": [
    "## Question 23\n",
    "A student writes an algorithm that reverses a string inside a loop to check for a palindrome.\n",
    "```\n",
    "BEGIN\n",
    "    INPUT word\n",
    "    reversed = \"\"\n",
    "\n",
    "    FOR i = LENGTH(word) TO 1\n",
    "        reversed = reversed + CHARACTER_AT(word, i)\n",
    "    NEXT i\n",
    "\n",
    "    IF word = reversed THEN\n",
    "        PRINT \"Palindrome\"\n",
    "    ELSE\n",
    "        PRINT \"Not a palindrome\"\n",
    "    ENDIF\n",
    "\n",
    "    INPUT anotherWord\n",
    "    reversed2 = \"\"\n",
    "\n",
    "    FOR j = LENGTH(anotherWord) TO 1\n",
    "        reversed2 = reversed2 + CHARACTER_AT(anotherWord, j)\n",
    "    NEXT j\n",
    "\n",
    "    IF anotherWord = reversed2 THEN\n",
    "        PRINT \"Palindrome\"\n",
    "    ELSE\n",
    "        PRINT \"Not a palindrome\"\n",
    "    ENDIF\n",
    "END\n",
    "```\n",
    "The reversal logic is duplicated. Suggest a subroutine-based improvement and explain the revised structure."
   ]
  },
  {
   "cell_type": "markdown",
   "id": "7ba04cf7",
   "metadata": {},
   "source": [
    "## Question 24\n",
    "Given the following pseudocode, describe the purpose of each control structure and how the main program and subroutine interact:\n",
    "\n",
    "```\n",
    "BEGIN\n",
    "    result = Factorial(5)\n",
    "    PRINT result\n",
    "END\n",
    "\n",
    "FUNCTION Factorial(n)\n",
    "    product = 1\n",
    "    FOR i = 1 TO n\n",
    "        product = product * i\n",
    "    NEXT i\n",
    "    RETURN product\n",
    "END\n",
    "```"
   ]
  }
 ],
 "metadata": {
  "kernelspec": {
   "display_name": "Python 3",
   "language": "python",
   "name": "python3"
  }
 },
 "nbformat": 4,
 "nbformat_minor": 5
}
