{
 "cells": [
  {
   "cell_type": "markdown",
   "id": "f2e132b9",
   "metadata": {},
   "source": "# Tutorial 120.4B – Control structures in Python"
  },
  {
   "cell_type": "markdown",
   "id": "52706103",
   "metadata": {},
   "source": [
    "This tutorial helps you practise writing control structures in Python by translating from pseudocode and flowcharts."
   ]
  },
  {
   "cell_type": "markdown",
   "id": "54b8dd61",
   "metadata": {},
   "source": [
    "## Question 1\n",
    "The flowchart checks whether a number is even or odd.\n",
    "![Flowchart](https://conceptstocode.apolloacademy.au/~gitbook/image?url=https%3A%2F%2F2467980448-files.gitbook.io%2F%7E%2Ffiles%2Fv0%2Fb%2Fgitbook-x-prod.appspot.com%2Fo%2Fspaces%252FsdPZPJyjzCdi6zPvYFDD%252Fuploads%252FCO3g1O5EgEVAxW5zIB2W%252F1204b-1.png%3Falt%3Dmedia%26token%3D4dc711c8-bc1a-4886-ad2f-7e9b193cc2c1&width=768&dpr=4&quality=100&sign=b2b0f27d&sv=2)\n",
    "Prepare Python code to represent the algorithm."
   ]
  },
  {
   "cell_type": "markdown",
   "id": "dd64fce9",
   "metadata": {},
   "source": [
    "## Question 2\n",
    "Convert the following multi-way pseudocode into Python:\n",
    "\n",
    "```\n",
    "IF grade >= 90 THEN\n",
    "    PRINT \"A\"\n",
    "ELSEIF grade >= 80 THEN\n",
    "    PRINT \"B\"\n",
    "ELSE\n",
    "    PRINT \"Try again\"\n",
    "ENDIF\n",
    "```"
   ]
  },
  {
   "cell_type": "markdown",
   "id": "fcb61f75",
   "metadata": {},
   "source": [
    "## Question 3\n",
    "Translate this pseudocode into Python:\n",
    "\n",
    "```\n",
    "WHILE count < 5\n",
    "    INPUT number\n",
    "    count = count + 1\n",
    "ENDWHILE\n",
    "```"
   ]
  },
  {
   "cell_type": "markdown",
   "id": "13a07804",
   "metadata": {},
   "source": [
    "## Question 4\n",
    "Write a `for` loop in Python that prints the numbers 1 to 10, one per line."
   ]
  },
  {
   "cell_type": "markdown",
   "id": "6621a6f2",
   "metadata": {},
   "source": [
    "## Question 5\n",
    "Use a `for` loop and selection to classify a list of ages. If the age is under 18, print \"Minor\", otherwise print \"Adult\"."
   ]
  },
  {
   "cell_type": "markdown",
   "id": "c96c34b9",
   "metadata": {},
   "source": [
    "## Question 6\n",
    "Modify the following loop to skip zero values and exit if a negative number is found:\n",
    "\n",
    "```python\n",
    "for num in values:\n",
    "    # your code here\n",
    "```"
   ]
  },
  {
   "cell_type": "markdown",
   "id": "1d019372",
   "metadata": {},
   "source": [
    "## Question 7\n",
    "You are given the following pseudocode that repeatedly asks the user for a password until a correct one is entered.\n",
    "```\n",
    "correct_password = \"letmein\"\n",
    "\n",
    "while True:\n",
    "    password = input(“Enter your password: “)\n",
    "    if password == correct_password:\n",
    "        print(“Access granted”)\n",
    "    break\n",
    "    else:\n",
    "        print(“Incorrect. Try again.”)\n",
    "```\n",
    "Refactor the pseudocode to Python code."
   ]
  },
  {
   "cell_type": "markdown",
   "id": "7afab045",
   "metadata": {},
   "source": [
    "## Question 8\n",
    "Refactor the following code to use a function:\n",
    "\n",
    "```python\n",
    "word1 = input(\"Enter a word: \")\n",
    "word2 = input(\"Enter another word: \")\n",
    "\n",
    "reversed1 = \"\"\n",
    "for i in range(len(word1) - 1, -1, -1):\n",
    "    reversed1 += word1[i]\n",
    "\n",
    "reversed2 = \"\"\n",
    "for i in range(len(word2) - 1, -1, -1):\n",
    "    reversed2 += word2[i]\n",
    "\n",
    "if word1 == reversed1:\n",
    "    print(\"First word is a palindrome\")\n",
    "if word2 == reversed2:\n",
    "    print(\"Second word is a palindrome\")\n",
    "```"
   ]
  },
  {
   "cell_type": "markdown",
   "id": "6c08284c",
   "metadata": {},
   "source": [
    "## Question 9\n",
    "Translate the following pseudocode into Python:\n",
    "\n",
    "```\n",
    "SET total = 0\n",
    "FOR i = 1 TO 5\n",
    "    IF i MOD 2 = 0 THEN\n",
    "        total = total + i\n",
    "    ENDIF\n",
    "NEXT i\n",
    "```"
   ]
  },
  {
   "cell_type": "markdown",
   "id": "9f52ddc9",
   "metadata": {},
   "source": [
    "## Question 10\n",
    "Python doesn’t have a built-in post-test (do-while) loop. Given this pseudocode:\n",
    "\n",
    "```\n",
    "REPEAT\n",
    "    INPUT number\n",
    "UNTIL number < 0\n",
    "```\n",
    "Write an equivalent Python version that ensures the loop runs at least once. Explain your choice."
   ]
  },
  {
   "cell_type": "markdown",
   "id": "cef9cea9",
   "metadata": {},
   "source": [
    "## Question 11\n",
    "Consider this logic: “Repeat asking the user for a password until the correct one is entered.”\n",
    "\n",
    "What kind of loop does this require and why?"
   ]
  },
  {
   "cell_type": "markdown",
   "id": "103da9b5",
   "metadata": {},
   "source": [
    "## Question 12\n",
    "Given this pseudocode:\n",
    "\n",
    "```\n",
    "SET total = 0\n",
    "FOR i = 1 TO 5\n",
    "    total = total + i\n",
    "NEXT i\n",
    "```\n",
    "Write the Python equivalent. Then describe how start and stop values are handled in `range()` compared to pseudocode."
   ]
  },
  {
   "cell_type": "markdown",
   "id": "f9453740",
   "metadata": {},
   "source": [
    "## Question 13\n",
    "The following pseudocode creates an infinite loop:\n",
    "\n",
    "```\n",
    "WHILE TRUE\n",
    "    INPUT answer\n",
    "    IF answer = \"stop\" THEN\n",
    "        EXIT\n",
    "    ENDIF\n",
    "ENDWHILE\n",
    "```\n",
    "Write this in Python and explain how `break` simulates `EXIT` in pseudocode."
   ]
  },
  {
   "cell_type": "markdown",
   "id": "1f56deb3",
   "metadata": {},
   "source": [
    "## Question 14\n",
    "Given the pseudocode:\n",
    "\n",
    "```\n",
    "FOR i = 10 TO 0 STEP -2\n",
    "    PRINT i\n",
    "```\n",
    "Write the Python equivalent. How does Python express the step value in `range()` and how does it handle reverse iteration?"
   ]
  },
  {
   "cell_type": "markdown",
   "id": "0a4248b7",
   "metadata": {},
   "source": [
    "## Question 15\n",
    "The following pseudocode skips a value:\n",
    "\n",
    "```\n",
    "FOR i = 1 TO 5\n",
    "    IF i = 3 THEN\n",
    "        CONTINUE\n",
    "    ENDIF\n",
    "    PRINT i\n",
    "NEXT i\n",
    "```\n",
    "Write the equivalent Python code and describe how Python handles the skipped iteration."
   ]
  }
 ],
 "metadata": {
  "kernelspec": {
   "display_name": "Python 3",
   "language": "python",
   "name": "python3"
  }
 },
 "nbformat": 4,
 "nbformat_minor": 5
}
