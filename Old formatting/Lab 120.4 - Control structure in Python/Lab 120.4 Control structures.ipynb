{
 "cells": [
  {
   "cell_type": "markdown",
   "id": "5b6dc3ba",
   "metadata": {},
   "source": "# Lab 120.4 – Implementing control structures in Python"
  },
  {
   "cell_type": "markdown",
   "id": "c310c7fd",
   "metadata": {},
   "source": [
    "This lab allows you to practise and implement the control structures covered in Tutorials 120.4A and 120.4B.\n",
    "\n",
    "You will complete tasks that involve:\n",
    "- Translating from pseudocode and flowcharts\n",
    "- Writing and debugging loops and conditional statements\n",
    "- Refactoring logic using functions\n",
    "- Creating modular solutions\n",
    "\n",
    "For more substantial tasks, you may create and submit external `.py` files as directed.\n"
   ]
  },
  {
   "cell_type": "markdown",
   "id": "df8d8e78",
   "metadata": {},
   "source": "## Section A – Working with loops"
  },
  {
   "cell_type": "markdown",
   "id": "e6a7d27d",
   "metadata": {},
   "source": [
    "### A1. Print even numbers from 1 to 20"
   ]
  },
  {
   "cell_type": "code",
   "execution_count": null,
   "id": "5041b109",
   "metadata": {},
   "outputs": [],
   "source": [
    "# TODO: Use a for loop to print even numbers from 1 to 20"
   ]
  },
  {
   "cell_type": "markdown",
   "id": "fabac140",
   "metadata": {},
   "source": [
    "### A2. Input until done"
   ]
  },
  {
   "cell_type": "code",
   "execution_count": null,
   "id": "ebced904",
   "metadata": {},
   "outputs": [],
   "source": [
    "# TODO: Use a while loop to repeatedly ask the user for input.\n",
    "# Exit the loop when the user enters 'done'."
   ]
  },
  {
   "cell_type": "markdown",
   "id": "ead5ba82",
   "metadata": {},
   "source": "## Section B – Using selection structures"
  },
  {
   "cell_type": "markdown",
   "id": "744d8372",
   "metadata": {},
   "source": [
    "### B1. Classify a test score"
   ]
  },
  {
   "cell_type": "code",
   "execution_count": null,
   "id": "80ec12dd",
   "metadata": {},
   "outputs": [],
   "source": [
    "# TODO: Use if-elif-else to classify a test score.\n",
    "# Score >= 90: A, 80–89: B, <80: Try again"
   ]
  },
  {
   "cell_type": "markdown",
   "id": "eea784d4",
   "metadata": {},
   "source": [
    "### B2. Nested selection"
   ]
  },
  {
   "cell_type": "code",
   "execution_count": null,
   "id": "09ffa786",
   "metadata": {},
   "outputs": [],
   "source": [
    "# TODO: Ask the user for a number.\n",
    "# If it is between 1 and 100, check if it is even or odd and print a message."
   ]
  },
  {
   "cell_type": "markdown",
   "id": "844129c3",
   "metadata": {},
   "source": "## Section C – Combining loops and selection"
  },
  {
   "cell_type": "markdown",
   "id": "6408d54b",
   "metadata": {},
   "source": [
    "### C1. Menu system"
   ]
  },
  {
   "cell_type": "code",
   "execution_count": null,
   "id": "5a6a1ca7",
   "metadata": {},
   "outputs": [],
   "source": [
    "# TODO: Build a text-based menu that loops until the user selects 'Exit'.\n",
    "# Present at least three options and use if-elif-else to handle them."
   ]
  },
  {
   "cell_type": "markdown",
   "id": "5c09f6de",
   "metadata": {},
   "source": [
    "### C2. Login attempt system"
   ]
  },
  {
   "cell_type": "code",
   "execution_count": null,
   "id": "af8aa9c6",
   "metadata": {},
   "outputs": [],
   "source": [
    "# TODO: Ask the user to enter a password.\n",
    "# Allow up to 3 attempts. If correct, print 'Access granted'.\n",
    "# If all attempts fail, print 'Access denied'."
   ]
  },
  {
   "cell_type": "markdown",
   "id": "08638034",
   "metadata": {},
   "source": "## 🔣 Section D – Translating from pseudocode"
  },
  {
   "cell_type": "markdown",
   "id": "320b2dac",
   "metadata": {},
   "source": [
    "### D1. Convert a pseudocode to Python - Educlidean algorithm\n",
    "The following pseudocode finds the greatest common divisor (GCD) of two numbers a and b using repeated subtraction:\n",
    "```\n",
    "INPUT a\n",
    "INPUT b\n",
    "\n",
    "WHILE a ≠ b\n",
    "    IF a > b THEN\n",
    "        a = a - b\n",
    "    ELSE\n",
    "        b = b - a\n",
    "    ENDIF\n",
    "ENDWHILE\n",
    "\n",
    "PRINT a\n",
    "```\n",
    "Write a Python program that implements the above pseudocode.\n",
    "Test your program with values such as `a = 36` and `b = 60`.\n",
    "The final value of `a` (or `b`) will be the GCD."
   ]
  },
  {
   "cell_type": "code",
   "execution_count": null,
   "id": "dee8205a",
   "metadata": {},
   "outputs": [],
   "source": [
    "# TODO: Write a Python program to simulate this algorithm\n",
    "# This simulates a loop where a and b are repeatedly compared and reduced\n",
    "# until they are equal."
   ]
  },
  {
   "cell_type": "markdown",
   "id": "d45e6081",
   "metadata": {},
   "source": "## Section E – Debugging and refactoring"
  },
  {
   "cell_type": "markdown",
   "id": "10bff43e",
   "metadata": {},
   "source": [
    "### E1. Infinite loop fix"
   ]
  },
  {
   "cell_type": "code",
   "execution_count": null,
   "id": "76b87eda",
   "metadata": {},
   "outputs": [],
   "source": [
    "# TODO: Fix this loop so it terminates correctly\n",
    "i = 1\n",
    "while i != 10:\n",
    "    print(i)\n",
    "    # missing increment?"
   ]
  },
  {
   "cell_type": "markdown",
   "id": "b163f79f",
   "metadata": {},
   "source": [
    "### E2. Refactor repeated logic\n",
    "```\n",
    "BEGIN\n",
    "    INPUT word\n",
    "    reversed = \"\"\n",
    "\n",
    "    FOR i = LENGTH(word) TO 1\n",
    "        reversed = reversed + CHARACTER_AT(word, i)\n",
    "    NEXT i\n",
    "\n",
    "    IF word = reversed THEN\n",
    "        PRINT \"Palindrome\"\n",
    "    ELSE\n",
    "        PRINT \"Not a palindrome\"\n",
    "    ENDIF\n",
    "\n",
    "    INPUT anotherWord\n",
    "    reversed2 = \"\"\n",
    "\n",
    "    FOR j = LENGTH(anotherWord) TO 1\n",
    "        reversed2 = reversed2 + CHARACTER_AT(anotherWord, j)\n",
    "    NEXT j\n",
    "\n",
    "    IF anotherWord = reversed2 THEN\n",
    "        PRINT \"Palindrome\"\n",
    "    ELSE\n",
    "        PRINT \"Not a palindrome\"\n",
    "    ENDIF\n",
    "END\n",
    "```"
   ]
  },
  {
   "cell_type": "code",
   "execution_count": null,
   "id": "04ae00c1",
   "metadata": {},
   "outputs": [],
   "source": [
    "# TODO: Refactor repeated palindrome logic into a function\n",
    "# Use the function to check two different words"
   ]
  },
  {
   "cell_type": "markdown",
   "id": "43616a6a",
   "metadata": {},
   "source": "## Section F – Challenge task"
  },
  {
   "cell_type": "markdown",
   "id": "5c4ced49",
   "metadata": {},
   "source": [
    "### F1. Score tracker (modular program)"
   ]
  },
  {
   "cell_type": "code",
   "execution_count": null,
   "id": "e7138230",
   "metadata": {},
   "outputs": [],
   "source": [
    "# TODO: Create a program that asks the user to enter scores until a negative number is entered.\n",
    "# Calculate and print the average of valid scores.\n",
    "# Organise your code into functions."
   ]
  },
  {
   "cell_type": "markdown",
   "id": "a83d436c",
   "metadata": {},
   "source": [
    "### F2. External file submission"
   ]
  },
  {
   "cell_type": "markdown",
   "id": "813de927",
   "metadata": {},
   "source": [
    "Now that you’ve built and tested your logic, rewrite your program in a separate file:\n",
    "- Save it as `lab_1204_final.py`\n",
    "- Submit or commit the file as directed."
   ]
  }
 ],
 "metadata": {
  "kernelspec": {
   "display_name": "Python 3",
   "language": "python",
   "name": "python3"
  }
 },
 "nbformat": 4,
 "nbformat_minor": 5
}
